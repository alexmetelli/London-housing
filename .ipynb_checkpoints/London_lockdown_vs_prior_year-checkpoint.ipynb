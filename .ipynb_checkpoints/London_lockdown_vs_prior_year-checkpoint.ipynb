{
 "cells": [
  {
   "cell_type": "code",
   "execution_count": 112,
   "metadata": {},
   "outputs": [],
   "source": [
    "import pandas as pd\n",
    "import numpy as np\n",
    "from sklearn.preprocessing import LabelEncoder\n",
    "from matplotlib import pyplot as plt\n",
    "%matplotlib inline"
   ]
  },
  {
   "cell_type": "code",
   "execution_count": 113,
   "metadata": {},
   "outputs": [
    {
     "name": "stdout",
     "output_type": "stream",
     "text": [
      "Data shape:(22414, 29)\n"
     ]
    },
    {
     "data": {
      "text/html": [
       "<div>\n",
       "<style scoped>\n",
       "    .dataframe tbody tr th:only-of-type {\n",
       "        vertical-align: middle;\n",
       "    }\n",
       "\n",
       "    .dataframe tbody tr th {\n",
       "        vertical-align: top;\n",
       "    }\n",
       "\n",
       "    .dataframe thead th {\n",
       "        text-align: right;\n",
       "    }\n",
       "</style>\n",
       "<table border=\"1\" class=\"dataframe\">\n",
       "  <thead>\n",
       "    <tr style=\"text-align: right;\">\n",
       "      <th></th>\n",
       "      <th>MajorText</th>\n",
       "      <th>MinorText</th>\n",
       "      <th>WardName</th>\n",
       "      <th>WardCode</th>\n",
       "      <th>LookUp_BoroughName</th>\n",
       "      <th>201806</th>\n",
       "      <th>201807</th>\n",
       "      <th>201808</th>\n",
       "      <th>201809</th>\n",
       "      <th>201810</th>\n",
       "      <th>...</th>\n",
       "      <th>201908</th>\n",
       "      <th>201909</th>\n",
       "      <th>201910</th>\n",
       "      <th>201911</th>\n",
       "      <th>201912</th>\n",
       "      <th>202001</th>\n",
       "      <th>202002</th>\n",
       "      <th>202003</th>\n",
       "      <th>202004</th>\n",
       "      <th>202005</th>\n",
       "    </tr>\n",
       "  </thead>\n",
       "  <tbody>\n",
       "    <tr>\n",
       "      <th>0</th>\n",
       "      <td>Arson and Criminal Damage</td>\n",
       "      <td>Arson</td>\n",
       "      <td>Abbey</td>\n",
       "      <td>E05000026</td>\n",
       "      <td>Barking and Dagenham</td>\n",
       "      <td>3</td>\n",
       "      <td>2</td>\n",
       "      <td>1</td>\n",
       "      <td>0</td>\n",
       "      <td>1</td>\n",
       "      <td>...</td>\n",
       "      <td>0</td>\n",
       "      <td>0</td>\n",
       "      <td>2</td>\n",
       "      <td>2</td>\n",
       "      <td>0</td>\n",
       "      <td>0</td>\n",
       "      <td>0</td>\n",
       "      <td>2</td>\n",
       "      <td>0</td>\n",
       "      <td>0</td>\n",
       "    </tr>\n",
       "    <tr>\n",
       "      <th>1</th>\n",
       "      <td>Arson and Criminal Damage</td>\n",
       "      <td>Criminal Damage</td>\n",
       "      <td>Abbey</td>\n",
       "      <td>E05000026</td>\n",
       "      <td>Barking and Dagenham</td>\n",
       "      <td>12</td>\n",
       "      <td>12</td>\n",
       "      <td>11</td>\n",
       "      <td>13</td>\n",
       "      <td>20</td>\n",
       "      <td>...</td>\n",
       "      <td>13</td>\n",
       "      <td>10</td>\n",
       "      <td>12</td>\n",
       "      <td>9</td>\n",
       "      <td>12</td>\n",
       "      <td>9</td>\n",
       "      <td>12</td>\n",
       "      <td>10</td>\n",
       "      <td>8</td>\n",
       "      <td>11</td>\n",
       "    </tr>\n",
       "    <tr>\n",
       "      <th>2</th>\n",
       "      <td>Burglary</td>\n",
       "      <td>Burglary - Business and Community</td>\n",
       "      <td>Abbey</td>\n",
       "      <td>E05000026</td>\n",
       "      <td>Barking and Dagenham</td>\n",
       "      <td>4</td>\n",
       "      <td>8</td>\n",
       "      <td>1</td>\n",
       "      <td>5</td>\n",
       "      <td>2</td>\n",
       "      <td>...</td>\n",
       "      <td>10</td>\n",
       "      <td>2</td>\n",
       "      <td>4</td>\n",
       "      <td>10</td>\n",
       "      <td>6</td>\n",
       "      <td>4</td>\n",
       "      <td>3</td>\n",
       "      <td>7</td>\n",
       "      <td>2</td>\n",
       "      <td>3</td>\n",
       "    </tr>\n",
       "    <tr>\n",
       "      <th>3</th>\n",
       "      <td>Burglary</td>\n",
       "      <td>Burglary - Residential</td>\n",
       "      <td>Abbey</td>\n",
       "      <td>E05000026</td>\n",
       "      <td>Barking and Dagenham</td>\n",
       "      <td>4</td>\n",
       "      <td>6</td>\n",
       "      <td>3</td>\n",
       "      <td>6</td>\n",
       "      <td>6</td>\n",
       "      <td>...</td>\n",
       "      <td>5</td>\n",
       "      <td>6</td>\n",
       "      <td>7</td>\n",
       "      <td>13</td>\n",
       "      <td>5</td>\n",
       "      <td>4</td>\n",
       "      <td>7</td>\n",
       "      <td>2</td>\n",
       "      <td>1</td>\n",
       "      <td>1</td>\n",
       "    </tr>\n",
       "    <tr>\n",
       "      <th>4</th>\n",
       "      <td>Drug Offences</td>\n",
       "      <td>Drug Trafficking</td>\n",
       "      <td>Abbey</td>\n",
       "      <td>E05000026</td>\n",
       "      <td>Barking and Dagenham</td>\n",
       "      <td>1</td>\n",
       "      <td>0</td>\n",
       "      <td>1</td>\n",
       "      <td>0</td>\n",
       "      <td>1</td>\n",
       "      <td>...</td>\n",
       "      <td>0</td>\n",
       "      <td>0</td>\n",
       "      <td>1</td>\n",
       "      <td>0</td>\n",
       "      <td>0</td>\n",
       "      <td>0</td>\n",
       "      <td>0</td>\n",
       "      <td>0</td>\n",
       "      <td>0</td>\n",
       "      <td>0</td>\n",
       "    </tr>\n",
       "  </tbody>\n",
       "</table>\n",
       "<p>5 rows × 29 columns</p>\n",
       "</div>"
      ],
      "text/plain": [
       "                   MajorText                          MinorText WardName  \\\n",
       "0  Arson and Criminal Damage                              Arson    Abbey   \n",
       "1  Arson and Criminal Damage                    Criminal Damage    Abbey   \n",
       "2                   Burglary  Burglary - Business and Community    Abbey   \n",
       "3                   Burglary             Burglary - Residential    Abbey   \n",
       "4              Drug Offences                   Drug Trafficking    Abbey   \n",
       "\n",
       "    WardCode    LookUp_BoroughName  201806  201807  201808  201809  201810  \\\n",
       "0  E05000026  Barking and Dagenham       3       2       1       0       1   \n",
       "1  E05000026  Barking and Dagenham      12      12      11      13      20   \n",
       "2  E05000026  Barking and Dagenham       4       8       1       5       2   \n",
       "3  E05000026  Barking and Dagenham       4       6       3       6       6   \n",
       "4  E05000026  Barking and Dagenham       1       0       1       0       1   \n",
       "\n",
       "   ...  201908  201909  201910  201911  201912  202001  202002  202003  \\\n",
       "0  ...       0       0       2       2       0       0       0       2   \n",
       "1  ...      13      10      12       9      12       9      12      10   \n",
       "2  ...      10       2       4      10       6       4       3       7   \n",
       "3  ...       5       6       7      13       5       4       7       2   \n",
       "4  ...       0       0       1       0       0       0       0       0   \n",
       "\n",
       "   202004  202005  \n",
       "0       0       0  \n",
       "1       8      11  \n",
       "2       2       3  \n",
       "3       1       1  \n",
       "4       0       0  \n",
       "\n",
       "[5 rows x 29 columns]"
      ]
     },
     "execution_count": 113,
     "metadata": {},
     "output_type": "execute_result"
    }
   ],
   "source": [
    "data = pd.read_csv('/home/alex/Documents/London_crime/MPS Ward Level Crime (most recent 24 months).csv')\n",
    "print('Data shape:{}'.format(data.shape))\n",
    "data.head()"
   ]
  },
  {
   "cell_type": "code",
   "execution_count": 114,
   "metadata": {},
   "outputs": [
    {
     "name": "stdout",
     "output_type": "stream",
     "text": [
      "11\n",
      "53\n"
     ]
    }
   ],
   "source": [
    "print(data['MajorText'].nunique())\n",
    "print(data['MinorText'].nunique())"
   ]
  },
  {
   "cell_type": "code",
   "execution_count": 115,
   "metadata": {},
   "outputs": [],
   "source": [
    "y_19 = ['201903', '201904', '201905']\n",
    "y_20 = ['202003', '202004', '202005']"
   ]
  },
  {
   "cell_type": "code",
   "execution_count": 116,
   "metadata": {},
   "outputs": [],
   "source": [
    "data['Tot-19'] = data[y_19].sum(axis=1)\n",
    "data['Tot-20'] = data[y_20].sum(axis=1)"
   ]
  },
  {
   "cell_type": "code",
   "execution_count": 123,
   "metadata": {},
   "outputs": [],
   "source": [
    "data['Diff'] = data['Tot-20'] - data['Tot-19']"
   ]
  },
  {
   "cell_type": "code",
   "execution_count": 124,
   "metadata": {},
   "outputs": [
    {
     "data": {
      "text/html": [
       "<div>\n",
       "<style scoped>\n",
       "    .dataframe tbody tr th:only-of-type {\n",
       "        vertical-align: middle;\n",
       "    }\n",
       "\n",
       "    .dataframe tbody tr th {\n",
       "        vertical-align: top;\n",
       "    }\n",
       "\n",
       "    .dataframe thead th {\n",
       "        text-align: right;\n",
       "    }\n",
       "</style>\n",
       "<table border=\"1\" class=\"dataframe\">\n",
       "  <thead>\n",
       "    <tr style=\"text-align: right;\">\n",
       "      <th></th>\n",
       "      <th>MajorText</th>\n",
       "      <th>Tot-19</th>\n",
       "      <th>Tot-20</th>\n",
       "      <th>Diff</th>\n",
       "    </tr>\n",
       "  </thead>\n",
       "  <tbody>\n",
       "    <tr>\n",
       "      <th>0</th>\n",
       "      <td>Arson and Criminal Damage</td>\n",
       "      <td>2</td>\n",
       "      <td>2</td>\n",
       "      <td>0</td>\n",
       "    </tr>\n",
       "    <tr>\n",
       "      <th>1</th>\n",
       "      <td>Arson and Criminal Damage</td>\n",
       "      <td>28</td>\n",
       "      <td>29</td>\n",
       "      <td>1</td>\n",
       "    </tr>\n",
       "    <tr>\n",
       "      <th>2</th>\n",
       "      <td>Burglary</td>\n",
       "      <td>20</td>\n",
       "      <td>12</td>\n",
       "      <td>-8</td>\n",
       "    </tr>\n",
       "    <tr>\n",
       "      <th>3</th>\n",
       "      <td>Burglary</td>\n",
       "      <td>9</td>\n",
       "      <td>4</td>\n",
       "      <td>-5</td>\n",
       "    </tr>\n",
       "    <tr>\n",
       "      <th>4</th>\n",
       "      <td>Drug Offences</td>\n",
       "      <td>2</td>\n",
       "      <td>0</td>\n",
       "      <td>-2</td>\n",
       "    </tr>\n",
       "  </tbody>\n",
       "</table>\n",
       "</div>"
      ],
      "text/plain": [
       "                   MajorText  Tot-19  Tot-20  Diff\n",
       "0  Arson and Criminal Damage       2       2     0\n",
       "1  Arson and Criminal Damage      28      29     1\n",
       "2                   Burglary      20      12    -8\n",
       "3                   Burglary       9       4    -5\n",
       "4              Drug Offences       2       0    -2"
      ]
     },
     "execution_count": 124,
     "metadata": {},
     "output_type": "execute_result"
    }
   ],
   "source": [
    "df = data.filter(['MajorText', 'Tot-19', 'Tot-20', 'Diff'])\n",
    "df.head()"
   ]
  },
  {
   "cell_type": "code",
   "execution_count": 125,
   "metadata": {},
   "outputs": [],
   "source": [
    "aggregation_functions = {'Tot-19': 'sum', 'Tot-20': 'sum', 'Diff': 'sum'}\n",
    "df_red = df.groupby(df['MajorText']).aggregate(aggregation_functions)"
   ]
  },
  {
   "cell_type": "code",
   "execution_count": 126,
   "metadata": {},
   "outputs": [
    {
     "data": {
      "text/html": [
       "<div>\n",
       "<style scoped>\n",
       "    .dataframe tbody tr th:only-of-type {\n",
       "        vertical-align: middle;\n",
       "    }\n",
       "\n",
       "    .dataframe tbody tr th {\n",
       "        vertical-align: top;\n",
       "    }\n",
       "\n",
       "    .dataframe thead th {\n",
       "        text-align: right;\n",
       "    }\n",
       "</style>\n",
       "<table border=\"1\" class=\"dataframe\">\n",
       "  <thead>\n",
       "    <tr style=\"text-align: right;\">\n",
       "      <th></th>\n",
       "      <th>MajorText</th>\n",
       "      <th>Tot-19</th>\n",
       "      <th>Tot-20</th>\n",
       "      <th>Diff</th>\n",
       "    </tr>\n",
       "  </thead>\n",
       "  <tbody>\n",
       "    <tr>\n",
       "      <th>0</th>\n",
       "      <td>Arson and Criminal Damage</td>\n",
       "      <td>14419</td>\n",
       "      <td>11662</td>\n",
       "      <td>-2757</td>\n",
       "    </tr>\n",
       "    <tr>\n",
       "      <th>1</th>\n",
       "      <td>Burglary</td>\n",
       "      <td>19876</td>\n",
       "      <td>12856</td>\n",
       "      <td>-7020</td>\n",
       "    </tr>\n",
       "    <tr>\n",
       "      <th>2</th>\n",
       "      <td>Drug Offences</td>\n",
       "      <td>11739</td>\n",
       "      <td>15231</td>\n",
       "      <td>3492</td>\n",
       "    </tr>\n",
       "    <tr>\n",
       "      <th>3</th>\n",
       "      <td>Miscellaneous Crimes Against Society</td>\n",
       "      <td>2842</td>\n",
       "      <td>2452</td>\n",
       "      <td>-390</td>\n",
       "    </tr>\n",
       "    <tr>\n",
       "      <th>4</th>\n",
       "      <td>Possession of Weapons</td>\n",
       "      <td>1972</td>\n",
       "      <td>1537</td>\n",
       "      <td>-435</td>\n",
       "    </tr>\n",
       "    <tr>\n",
       "      <th>5</th>\n",
       "      <td>Public Order Offences</td>\n",
       "      <td>12759</td>\n",
       "      <td>11630</td>\n",
       "      <td>-1129</td>\n",
       "    </tr>\n",
       "    <tr>\n",
       "      <th>6</th>\n",
       "      <td>Robbery</td>\n",
       "      <td>9770</td>\n",
       "      <td>5045</td>\n",
       "      <td>-4725</td>\n",
       "    </tr>\n",
       "    <tr>\n",
       "      <th>7</th>\n",
       "      <td>Sexual Offences</td>\n",
       "      <td>4431</td>\n",
       "      <td>3465</td>\n",
       "      <td>-966</td>\n",
       "    </tr>\n",
       "    <tr>\n",
       "      <th>8</th>\n",
       "      <td>Theft</td>\n",
       "      <td>63759</td>\n",
       "      <td>30877</td>\n",
       "      <td>-32882</td>\n",
       "    </tr>\n",
       "    <tr>\n",
       "      <th>9</th>\n",
       "      <td>Vehicle Offences</td>\n",
       "      <td>30560</td>\n",
       "      <td>22916</td>\n",
       "      <td>-7644</td>\n",
       "    </tr>\n",
       "    <tr>\n",
       "      <th>10</th>\n",
       "      <td>Violence Against the Person</td>\n",
       "      <td>54071</td>\n",
       "      <td>50038</td>\n",
       "      <td>-4033</td>\n",
       "    </tr>\n",
       "  </tbody>\n",
       "</table>\n",
       "</div>"
      ],
      "text/plain": [
       "                               MajorText  Tot-19  Tot-20   Diff\n",
       "0              Arson and Criminal Damage   14419   11662  -2757\n",
       "1                               Burglary   19876   12856  -7020\n",
       "2                          Drug Offences   11739   15231   3492\n",
       "3   Miscellaneous Crimes Against Society    2842    2452   -390\n",
       "4                  Possession of Weapons    1972    1537   -435\n",
       "5                  Public Order Offences   12759   11630  -1129\n",
       "6                                Robbery    9770    5045  -4725\n",
       "7                        Sexual Offences    4431    3465   -966\n",
       "8                                  Theft   63759   30877 -32882\n",
       "9                       Vehicle Offences   30560   22916  -7644\n",
       "10           Violence Against the Person   54071   50038  -4033"
      ]
     },
     "execution_count": 126,
     "metadata": {},
     "output_type": "execute_result"
    }
   ],
   "source": [
    "df_red = df_red.reset_index()\n",
    "df_red.head(20)"
   ]
  },
  {
   "cell_type": "code",
   "execution_count": 139,
   "metadata": {},
   "outputs": [
    {
     "data": {
      "image/png": "[encoded data removed]",
      "text/plain": [
       "<Figure size 432x288 with 1 Axes>"
      ]
     },
     "metadata": {
      "needs_background": "light"
     },
     "output_type": "display_data"
    }
   ],
   "source": [
    "labels = df_red['MajorText']\n",
    "c_19 = df_red['Tot-19']\n",
    "c_20 = df_red['Tot-20']\n",
    "width = 0.35\n",
    "\n",
    "\n",
    "fig, ax = plt.subplots()\n",
    "\n",
    "ax.bar(labels, c_19, width, label='Pre-Lockdown')\n",
    "ax.bar(labels, c_20, width, bottom=c_19,\n",
    "       label='Lockdown')\n",
    "\n",
    "ax.set_ylabel('# Crimes')\n",
    "ax.set_title('Numebers by crimes type')\n",
    "ax.legend()\n",
    "\n",
    "plt.show()\n"
   ]
  },
  {
   "cell_type": "code",
   "execution_count": 120,
   "metadata": {},
   "outputs": [
    {
     "data": {
      "image/png": "[encoded data removed]",
      "text/plain": [
       "<Figure size 2880x720 with 1 Axes>"
      ]
     },
     "metadata": {
      "needs_background": "light"
     },
     "output_type": "display_data"
    }
   ],
   "source": [
    "x_pos = [i for i, _ in enumerate(df_red['MajorText'])]\n",
    "\n",
    "plt.figure(figsize=(40,10))\n",
    "plt.bar(x_pos,df_red['Tot-19'] , color='green')\n",
    "plt.xticks(x_pos, df_red['MajorText'])\n",
    "plt.show()"
   ]
  },
  {
   "cell_type": "code",
   "execution_count": 121,
   "metadata": {},
   "outputs": [
    {
     "data": {
      "image/png": "[encoded data removed]",
      "text/plain": [
       "<Figure size 2880x720 with 1 Axes>"
      ]
     },
     "metadata": {
      "needs_background": "light"
     },
     "output_type": "display_data"
    }
   ],
   "source": [
    "plt.figure(figsize=(40,10))\n",
    "plt.bar(x_pos,df_red['Tot-20'] , color='green')\n",
    "plt.xticks(x_pos, df_red['MajorText'])\n",
    "plt.show()"
   ]
  },
  {
   "cell_type": "code",
   "execution_count": 122,
   "metadata": {},
   "outputs": [
    {
     "data": {
      "text/html": [
       "<div>\n",
       "<style scoped>\n",
       "    .dataframe tbody tr th:only-of-type {\n",
       "        vertical-align: middle;\n",
       "    }\n",
       "\n",
       "    .dataframe tbody tr th {\n",
       "        vertical-align: top;\n",
       "    }\n",
       "\n",
       "    .dataframe thead th {\n",
       "        text-align: right;\n",
       "    }\n",
       "</style>\n",
       "<table border=\"1\" class=\"dataframe\">\n",
       "  <thead>\n",
       "    <tr style=\"text-align: right;\">\n",
       "      <th></th>\n",
       "      <th>MajorText</th>\n",
       "      <th>Tot-19</th>\n",
       "      <th>Tot-20</th>\n",
       "    </tr>\n",
       "  </thead>\n",
       "  <tbody>\n",
       "    <tr>\n",
       "      <th>0</th>\n",
       "      <td>Arson and Criminal Damage</td>\n",
       "      <td>14419</td>\n",
       "      <td>11662</td>\n",
       "    </tr>\n",
       "    <tr>\n",
       "      <th>1</th>\n",
       "      <td>Burglary</td>\n",
       "      <td>19876</td>\n",
       "      <td>12856</td>\n",
       "    </tr>\n",
       "    <tr>\n",
       "      <th>2</th>\n",
       "      <td>Drug Offences</td>\n",
       "      <td>11739</td>\n",
       "      <td>15231</td>\n",
       "    </tr>\n",
       "    <tr>\n",
       "      <th>3</th>\n",
       "      <td>Miscellaneous Crimes Against Society</td>\n",
       "      <td>2842</td>\n",
       "      <td>2452</td>\n",
       "    </tr>\n",
       "    <tr>\n",
       "      <th>4</th>\n",
       "      <td>Possession of Weapons</td>\n",
       "      <td>1972</td>\n",
       "      <td>1537</td>\n",
       "    </tr>\n",
       "  </tbody>\n",
       "</table>\n",
       "</div>"
      ],
      "text/plain": [
       "                              MajorText  Tot-19  Tot-20\n",
       "0             Arson and Criminal Damage   14419   11662\n",
       "1                              Burglary   19876   12856\n",
       "2                         Drug Offences   11739   15231\n",
       "3  Miscellaneous Crimes Against Society    2842    2452\n",
       "4                 Possession of Weapons    1972    1537"
      ]
     },
     "execution_count": 122,
     "metadata": {},
     "output_type": "execute_result"
    }
   ],
   "source": [
    "df_red.head()"
   ]
  },
  {
   "cell_type": "code",
   "execution_count": null,
   "metadata": {},
   "outputs": [],
   "source": []
  }
 ],
 "metadata": {
  "kernelspec": {
   "display_name": "Python 3",
   "language": "python",
   "name": "python3"
  },
  "language_info": {
   "codemirror_mode": {
    "name": "ipython",
    "version": 3
   },
   "file_extension": ".py",
   "mimetype": "text/x-python",
   "name": "python",
   "nbconvert_exporter": "python",
   "pygments_lexer": "ipython3",
   "version": "3.7.6"
  }
 },
 "nbformat": 4,
 "nbformat_minor": 4
}
